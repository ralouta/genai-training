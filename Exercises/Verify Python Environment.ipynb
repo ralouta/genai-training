{
 "cells": [
  {
   "cell_type": "code",
   "execution_count": null,
   "metadata": {},
   "outputs": [],
   "source": [
    "import toml\n",
    "import sys\n",
    "import os\n",
    "import shutil\n",
    "import json\n",
    "import base64\n",
    "\n",
    "import pandas as pd\n",
    "from typing import Optional, List, Dict\n",
    "from getpass import getpass\n",
    "from pandasai import Agent\n",
    "from arcgis.gis import GIS\n",
    "\n",
    "from langchain_openai import AzureChatOpenAI\n",
    "from langchain_core.messages import HumanMessage\n",
    "from langchain_core.output_parsers import JsonOutputParser\n",
    "from langchain_core.pydantic_v1 import BaseModel, Field\n",
    "\n",
    "import fitz"
   ]
  },
  {
   "cell_type": "code",
   "execution_count": null,
   "metadata": {},
   "outputs": [],
   "source": [
    "azure_config = toml.load(\"config.toml\")[\"configs\"][0]\n",
    "llm = AzureChatOpenAI(\n",
    "    openai_api_version=azure_config[\"api_version\"],\n",
    "    azure_deployment=azure_config[\"deployment_name\"],\n",
    "    api_key=azure_config[\"api_key\"],\n",
    "    azure_endpoint=azure_config[\"api_endpoint\"],\n",
    "    model=azure_config[\"model_name\"],\n",
    "    model_name=azure_config[\"model_name\"],\n",
    "    temperature=0,\n",
    ")\n",
    "\n",
    "# Invoke the method and print the result\n",
    "response = llm.invoke(\"A welcome to the SE Led Training Workshop\")\n",
    "print(response.content)"
   ]
  },
  {
   "cell_type": "code",
   "execution_count": null,
   "metadata": {},
   "outputs": [],
   "source": [
    "print(\"Successfully imported all libraries. Your python environment is ready to go.\")"
   ]
  }
 ],
 "metadata": {
  "kernelspec": {
   "display_name": "Python 3",
   "language": "python",
   "name": "python3"
  },
  "language_info": {
   "codemirror_mode": {
    "name": "ipython",
    "version": 3
   },
   "file_extension": ".py",
   "mimetype": "text/x-python",
   "name": "python",
   "nbconvert_exporter": "python",
   "pygments_lexer": "ipython3",
   "version": "3.11.7"
  }
 },
 "nbformat": 4,
 "nbformat_minor": 2
}
