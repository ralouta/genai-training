{
 "cells": [
  {
   "cell_type": "markdown",
   "metadata": {},
   "source": [
    "### Exercise 2 - AI Attachment Reviewer\n",
    "\n",
    "This example will walk you through the following steps:\n",
    "\n",
    "1. Downloading attachments from a Feature Service\n",
    "2. Use a LLM to analyze attachments (images & PDFs) and provide a text summary for each\n",
    "3. Write that summary back to the feature for review in an ArcGIS Manager Instant Application\n"
   ]
  },
  {
   "cell_type": "markdown",
   "metadata": {},
   "source": [
    "#### Import the needed python libraries\n"
   ]
  },
  {
   "cell_type": "code",
   "execution_count": null,
   "metadata": {},
   "outputs": [],
   "source": [
    "import toml\n",
    "import sys\n",
    "import os\n",
    "import shutil\n",
    "import pandas as pd\n",
    "from arcgis.gis import GIS\n",
    "from langchain_openai import AzureChatOpenAI\n",
    "from pydantic import BaseModel, Field\n",
    "from getpass import getpass\n",
    "from typing import Optional, Dict, List\n",
    "\n",
    "parent_dir = os.path.abspath(os.path.join(os.getcwd(), \"..\"))\n",
    "\n",
    "# Add the parent directory to the Python path\n",
    "sys.path.append(parent_dir)\n",
    "\n",
    "from chains.image_extractor import ImageExtractChain\n",
    "from chains.pdf_extractor import PDFExtractChain\n",
    "\n",
    "print(\"done importing\")"
   ]
  },
  {
   "cell_type": "markdown",
   "metadata": {},
   "source": [
    "#### Connect to ArcGIS Online\n",
    "\n",
    "You can choose to connect to an Organization that uses a named user account or Single Sign On. Below are three options:\n",
    "\n",
    "---\n",
    "\n",
    "OPTION 1. Connect to any ArcGIS Online Organization using a named user account.\n",
    "\n",
    "OPTION 2. If you have an **Esri Federal** account, connect using Single Sign On.\n",
    "\n",
    "OPTION 3. Connect to any ArcGIS Online Organization using a Single Sign On account.\n",
    "\n",
    "---\n",
    "\n",
    "**Please run only one of the next three code cells.**\n"
   ]
  },
  {
   "cell_type": "markdown",
   "metadata": {},
   "source": [
    "OPTION 1: Connect to any ArcGIS Online Organization using a named user account.\n",
    "\n",
    "- Simply log in with your username and password when prompted\n"
   ]
  },
  {
   "cell_type": "code",
   "execution_count": null,
   "metadata": {},
   "outputs": [],
   "source": [
    "username = input(prompt=\"Enter your Esri username: \")\n",
    "password = getpass(prompt=\"Enter your Esri password: \")\n",
    "gis = GIS(\"https://www.arcgis.com\", username, password)\n",
    "\n",
    "gis"
   ]
  },
  {
   "cell_type": "markdown",
   "metadata": {},
   "source": [
    "OPTION 2. If you have an **Esri Federal** account, connect using Single Sign On.\n"
   ]
  },
  {
   "cell_type": "code",
   "execution_count": null,
   "metadata": {},
   "outputs": [],
   "source": [
    "## this is url to your Organization\n",
    "org_url = \"https://esrifederal.maps.arcgis.com\"\n",
    "\n",
    "# ## client_id is the application id of the app registered through the org\n",
    "client_id = \"VEFjlNUX3GINnELq\"\n",
    "gis = GIS(org_url, client_id=client_id)\n",
    "\n",
    "gis"
   ]
  },
  {
   "cell_type": "markdown",
   "metadata": {},
   "source": [
    "OPTION 3. Connect to any ArcGIS Online Organization using a Single Sign On account.\n",
    "\n",
    "- Follow these instructions to create OAuth credentials in your ArcGIS Online account, https://developers.arcgis.com/documentation/security-and-authentication/app-authentication/tutorials/create-oauth-credentials-app-auth/.\n",
    "- After creating, copy the Client Id and use it below in the `client_id` variable.\n"
   ]
  },
  {
   "cell_type": "code",
   "execution_count": null,
   "metadata": {},
   "outputs": [],
   "source": [
    "## this is url to your Organization. ex: https://myOrg.maps.arcgis.com\n",
    "org_url = \"<Your ArcGIS Online Organization's URL>\"\n",
    "\n",
    "# ## client_id is the application id of the app registered through the org\n",
    "client_id = \"<Your Client ID>\"\n",
    "gis = GIS(org_url, client_id=client_id)\n",
    "\n",
    "gis"
   ]
  },
  {
   "cell_type": "markdown",
   "metadata": {},
   "source": [
    "#### Publish a zipped FileGDB to your Organization\n"
   ]
  },
  {
   "cell_type": "code",
   "execution_count": 24,
   "metadata": {},
   "outputs": [],
   "source": [
    "# load the full path of data/Projects_with_Attachments_for_AI_Review_FGDB.zip\n",
    "data_path = os.path.join(\n",
    "    parent_dir, \"Exercises\", \"data\", \"Projects_with_Attachments_for_AI_Review_FGDB.zip\"\n",
    ")\n",
    "\n",
    "# create a new item\n",
    "item = gis.content.add(\n",
    "    {\n",
    "        \"title\": \"Projects with Attachments for AI Review\",\n",
    "        \"type\": \"File Geodatabase\",\n",
    "        \"tags\": \"AI, attachments, projects\",\n",
    "        \"typeKeywords\": \"Data, FileGDB, File Geodatabase\",\n",
    "        \"description\": \"This file geodatabase contains a feature class with attachments that can be used to test AI models.\",\n",
    "    },\n",
    "    data=data_path,\n",
    ")\n",
    "\n",
    "# publish the item\n",
    "feature_layer_item = item.publish()\n",
    "\n",
    "# get the item id of the new feature service\n",
    "new_feature_service_item_id = feature_layer_item.id\n",
    "\n",
    "feature_layer = gis.content.get(new_feature_service_item_id).layers[0]"
   ]
  },
  {
   "cell_type": "markdown",
   "metadata": {},
   "source": [
    "#### Set the output directory to read attachments\n"
   ]
  },
  {
   "cell_type": "code",
   "execution_count": null,
   "metadata": {},
   "outputs": [],
   "source": [
    "# get full path to attachments folder\n",
    "output_dir = os.path.join(parent_dir, \"Exercises\", \"attachments\")"
   ]
  },
  {
   "cell_type": "markdown",
   "metadata": {},
   "source": [
    "#### Use a LLM to analyze the attachments\n"
   ]
  },
  {
   "cell_type": "code",
   "execution_count": null,
   "metadata": {},
   "outputs": [],
   "source": [
    "azure_config = toml.load(\"config.toml\")[\"configs\"][0]\n",
    "llm = AzureChatOpenAI(\n",
    "    openai_api_version=azure_config[\"api_version\"],\n",
    "    azure_deployment=azure_config[\"deployment_name\"],\n",
    "    api_key=azure_config[\"api_key\"],\n",
    "    azure_endpoint=azure_config[\"api_endpoint\"],\n",
    "    model=azure_config[\"model_name\"],\n",
    "    model_name=azure_config[\"model_name\"],\n",
    "    temperature=0,\n",
    ")\n",
    "llm.invoke(\"hi\")"
   ]
  },
  {
   "cell_type": "markdown",
   "metadata": {},
   "source": [
    "#### Setup the Output Model Structure\n"
   ]
  },
  {
   "cell_type": "markdown",
   "metadata": {},
   "source": [
    "For all images, extract the following information:\n"
   ]
  },
  {
   "cell_type": "code",
   "execution_count": 26,
   "metadata": {},
   "outputs": [],
   "source": [
    "class ImageInformation(BaseModel):\n",
    "    \"\"\"Information about an image.\"\"\"\n",
    "\n",
    "    title: str = Field(description=\"Title of the image\")\n",
    "    image_description: str = Field(description=\"a short description of the image\")\n",
    "    point_measurements: list[float] = Field(\n",
    "        description=\"list of the numbers of measurements in the map or graph or table\"\n",
    "    )\n",
    "    location_point_measurements: list[str] = Field(\n",
    "        description=\"list of the locations of the measurements in the map or graph or table\"\n",
    "    )\n",
    "    point_measurements_description: str = Field(\n",
    "        description=\"explaination of the point measurements\"\n",
    "    )\n",
    "    average_measurements: float = Field(\n",
    "        description=\"average measurement of data in the image\"\n",
    "    )\n",
    "    average_measurements_description: str = Field(\n",
    "        description=\"explaination of the average measurement calculation\"\n",
    "    )\n",
    "    country: Optional[str] = Field(\n",
    "        \"\", description=\"country where the picture was taken\"\n",
    "    )\n",
    "    main_objects: list[str] = Field(\n",
    "        description=\"list of the main objects on the picture\"\n",
    "    )"
   ]
  },
  {
   "cell_type": "markdown",
   "metadata": {},
   "source": [
    "For all PDFs, extract the following information:\n"
   ]
  },
  {
   "cell_type": "code",
   "execution_count": 27,
   "metadata": {},
   "outputs": [],
   "source": [
    "class GraphAttributes(BaseModel):\n",
    "    \"\"\"Attributes of a graph in the PDF document.\"\"\"\n",
    "\n",
    "    title: str = Field(description=\"Title of the graph\")\n",
    "    page_number: int = Field(description=\"Page number where the graph is located\")\n",
    "    description: Optional[str] = Field(\"\", description=\"Description of the graph\")\n",
    "\n",
    "\n",
    "class PDFInformation(BaseModel):\n",
    "    \"\"\"Information about a PDF document.\"\"\"\n",
    "\n",
    "    title: str = Field(description=\"Title of the PDF document\")\n",
    "    author: Optional[str] = Field(\"\", description=\"Author of the PDF document\")\n",
    "    number_of_pages: int = Field(description=\"Number of pages in the PDF document\")\n",
    "    number_of_graphs: int = Field(description=\"Number of graphs in the PDF document\")\n",
    "    graphs: Dict[str, GraphAttributes] = Field(description=\"Graphs in the PDF document\")\n",
    "    creation_date: Optional[str] = Field(\n",
    "        \"\", description=\"Creation date of the PDF document\"\n",
    "    )\n",
    "    modification_date: Optional[str] = Field(\n",
    "        \"\", description=\"Last modification date of the PDF document\"\n",
    "    )\n",
    "    keywords: List[str] = Field(\n",
    "        description=\"List of keywords associated with the PDF document\"\n",
    "    )\n",
    "    summary: str = Field(description=\"A short summary of the PDF document\")\n",
    "    main_topics: List[str] = Field(\n",
    "        description=\"List of the main topics covered in the PDF document\"\n",
    "    )"
   ]
  },
  {
   "cell_type": "markdown",
   "metadata": {},
   "source": [
    "#### Loop through each attachment and have the LLM analyze it and output the description to your feature service.\n"
   ]
  },
  {
   "cell_type": "code",
   "execution_count": null,
   "metadata": {},
   "outputs": [],
   "source": [
    "# Initialize dataframes to store results for pdf and image attachments\n",
    "results_pdf = pd.DataFrame()\n",
    "results_image = pd.DataFrame()\n",
    "\n",
    "# Loop through attachments folder\n",
    "for root, dirs, files in os.walk(output_dir):\n",
    "    for file in files:\n",
    "        ai_id = int(file.split(\"__\")[0])\n",
    "        print(\"=====================================\")\n",
    "        print(f\"Processing attachment for AI_ID: {ai_id}\")\n",
    "\n",
    "        file_path = os.path.join(root, file)\n",
    "\n",
    "        attachment_description = None\n",
    "        if file.upper().endswith(\".PNG\") or file.upper().endswith(\".JPG\"):\n",
    "            print(\"analyzing image attachment ...\")\n",
    "            iec_chain = ImageExtractChain(\n",
    "                model=llm, image_path=file_path, output_model=ImageInformation\n",
    "            )\n",
    "            result = iec_chain.extract_from_image()\n",
    "            attributes = vars(result)\n",
    "            attributes[\"AI_ID\"] = ai_id\n",
    "            result_df = pd.DataFrame([attributes])\n",
    "            results_image = pd.concat([results_image, result_df], ignore_index=True)\n",
    "            attachment_description = iec_chain.format_for_attachment(result)\n",
    "        else:\n",
    "            print(\"analyzing pdf attachment ...\")\n",
    "            pdf_chain = PDFExtractChain(\n",
    "                model=llm, pdf_path=file_path, output_model=PDFInformation\n",
    "            )\n",
    "            result = pdf_chain.extract_from_pdf()\n",
    "            attributes = vars(result)\n",
    "            attributes[\"AI_ID\"] = ai_id\n",
    "            result_df = pd.DataFrame([attributes])\n",
    "            results_pdf = pd.concat([results_pdf, result_df], ignore_index=True)\n",
    "            attachment_description = pdf_chain.format_for_attachment(result)\n",
    "\n",
    "        if attachment_description is None:\n",
    "            continue\n",
    "\n",
    "        # query for feature where AI_ID is equal to AI_ID in feature layer; return only object id\n",
    "        query_result = feature_layer.query(\n",
    "            where=f\"AI_ID = {ai_id}\", return_ids_only=True\n",
    "        )\n",
    "\n",
    "        feature = [\n",
    "            {\n",
    "                \"attributes\": {\n",
    "                    feature_layer.properties.objectIdField: query_result[\"objectIds\"][\n",
    "                        0\n",
    "                    ],\n",
    "                    \"AIReview\": attachment_description,\n",
    "                }\n",
    "            }\n",
    "        ]\n",
    "\n",
    "        print(\"Updating AI Review...\")\n",
    "        feature_layer.edit_features(\n",
    "            updates=feature,\n",
    "        )\n",
    "\n",
    "        print(f\"Updated AI Review for AI_ID: {ai_id}\")\n",
    "        print(\"=====================================\")\n",
    "        print(\"\")\n",
    "\n",
    "print(\"done analyzing attachments\")"
   ]
  },
  {
   "cell_type": "markdown",
   "metadata": {},
   "source": [
    "#### View the output of the images in a pandas dataframe\n"
   ]
  },
  {
   "cell_type": "code",
   "execution_count": null,
   "metadata": {},
   "outputs": [],
   "source": [
    "results_image"
   ]
  },
  {
   "cell_type": "markdown",
   "metadata": {},
   "source": [
    "#### View the output of the pdfs in a pandas dataframe\n"
   ]
  },
  {
   "cell_type": "code",
   "execution_count": null,
   "metadata": {},
   "outputs": [],
   "source": [
    "results_pdf"
   ]
  },
  {
   "cell_type": "code",
   "execution_count": null,
   "metadata": {},
   "outputs": [],
   "source": []
  }
 ],
 "metadata": {
  "kernelspec": {
   "display_name": "genai-auto-py3",
   "language": "python",
   "name": "python3"
  },
  "language_info": {
   "codemirror_mode": {
    "name": "ipython",
    "version": 3
   },
   "file_extension": ".py",
   "mimetype": "text/x-python",
   "name": "python",
   "nbconvert_exporter": "python",
   "pygments_lexer": "ipython3",
   "version": "3.11.7"
  }
 },
 "nbformat": 4,
 "nbformat_minor": 2
}
