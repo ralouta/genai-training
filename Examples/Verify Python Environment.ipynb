{
 "cells": [
  {
   "cell_type": "code",
   "execution_count": 1,
   "metadata": {},
   "outputs": [],
   "source": [
    "import toml\n",
    "import sys\n",
    "import os\n",
    "import shutil\n",
    "import json\n",
    "import base64\n",
    "\n",
    "import pandas as pd\n",
    "from typing import Optional, List, Dict\n",
    "from getpass import getpass\n",
    "from pandasai import Agent\n",
    "from arcgis.gis import GIS\n",
    "\n",
    "from langchain_openai import AzureChatOpenAI\n",
    "from langchain_core.messages import HumanMessage\n",
    "from langchain_core.output_parsers import JsonOutputParser\n",
    "from langchain_core.pydantic_v1 import BaseModel, Field\n",
    "\n",
    "import fitz\n"
   ]
  },
  {
   "cell_type": "code",
   "execution_count": 2,
   "metadata": {},
   "outputs": [
    {
     "name": "stdout",
     "output_type": "stream",
     "text": [
      "Welcome to the SE Led Training Workshop!\n",
      "\n",
      "We are thrilled to have you join us for this exciting and informative event. Whether you are here to enhance your skills, gain new insights, or network with like-minded professionals, we are confident that you will find this workshop both valuable and engaging.\n",
      "\n",
      "Throughout the workshop, you will have the opportunity to:\n",
      "\n",
      "- **Learn from Experts:** Our experienced trainers and industry leaders will share their knowledge and expertise on a variety of topics relevant to your field.\n",
      "- **Engage in Hands-On Activities:** Participate in interactive sessions designed to provide practical experience and reinforce your learning.\n",
      "- **Network with Peers:** Connect with fellow participants, exchange ideas, and build relationships that can support your professional growth.\n",
      "- **Ask Questions:** Take advantage of the Q&A sessions to clarify any doubts and deepen your understanding of the material.\n",
      "\n",
      "We encourage you to actively participate, ask questions, and make the most of this opportunity. Your engagement is key to a successful and enriching experience.\n",
      "\n",
      "Thank you for being here, and we look forward to a productive and enjoyable workshop together!\n",
      "\n",
      "Best regards,\n",
      "\n",
      "[Your Name]\n",
      "[Your Position]\n",
      "[Your Contact Information]\n"
     ]
    }
   ],
   "source": [
    "azure_config = toml.load(\"config.toml\")[\"configs\"][0]\n",
    "llm = AzureChatOpenAI(\n",
    "    openai_api_version=azure_config[\"api_version\"],\n",
    "    azure_deployment=azure_config[\"deployment_name\"],\n",
    "    api_key=azure_config[\"api_key\"],\n",
    "    azure_endpoint=azure_config[\"api_endpoint\"],\n",
    "    model=azure_config[\"model_name\"],\n",
    "    model_name=azure_config[\"model_name\"],\n",
    "    temperature=0,\n",
    ")\n",
    "\n",
    "# Invoke the method and print the result\n",
    "response = llm.invoke(\"A welcome to the SE Led Training Workshop\")\n",
    "print(response.content)"
   ]
  },
  {
   "cell_type": "code",
   "execution_count": 3,
   "metadata": {},
   "outputs": [
    {
     "name": "stdout",
     "output_type": "stream",
     "text": [
      "Successfully imported all libraries. Your python environment is ready to go.\n"
     ]
    }
   ],
   "source": [
    "print(\"Successfully imported all libraries. Your python environment is ready to go.\")"
   ]
  }
 ],
 "metadata": {
  "kernelspec": {
   "display_name": "Python 3",
   "language": "python",
   "name": "python3"
  },
  "language_info": {
   "codemirror_mode": {
    "name": "ipython",
    "version": 3
   },
   "file_extension": ".py",
   "mimetype": "text/x-python",
   "name": "python",
   "nbconvert_exporter": "python",
   "pygments_lexer": "ipython3",
   "version": "3.11.8"
  }
 },
 "nbformat": 4,
 "nbformat_minor": 2
}
